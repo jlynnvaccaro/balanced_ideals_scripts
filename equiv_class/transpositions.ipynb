{
 "cells": [
  {
   "cell_type": "code",
   "execution_count": 2,
   "metadata": {},
   "outputs": [],
   "source": [
    "import equivalence_class\n",
    "from collections import defaultdict\n",
    "from termcolor import colored\n",
    "# import transpositions"
   ]
  },
  {
   "cell_type": "code",
   "execution_count": 3,
   "metadata": {},
   "outputs": [],
   "source": [
    "import matplotlib.pyplot as plt\n",
    "import numpy as np\n",
    "def print_matrices(elt, color=\"white\", elt_matrix = None, w0_matrix=None,sum_matrix = None,silent=True):\n",
    "    \"\"\"Prints out an element and some matrices\"\"\"\n",
    "    w0_elt = elt.w0()\n",
    "    s = \"{} {}:{} {}\".format(elt.word,elt.oneline,w0_elt.word,w0_elt.oneline)\n",
    "    elt_sigma = elt.matrix_sigma()\n",
    "    w0_sigma = w0_elt.matrix_sigma()\n",
    "    elt_delta = elt_sigma.dot()\n",
    "    w0_delta = w0_sigma.dot()\n",
    "    elt_matrix = elt_matrix.concat_right(elt_delta)\n",
    "    w0_matrix = w0_matrix.concat_right(w0_delta)\n",
    "    sum_matrix = sum_matrix.concat_right(elt_delta+elt_delta.flip())\n",
    "    if not silent:\n",
    "        print(colored(s,color))\n",
    "        print(colored(\"------\",color))\n",
    "        print(elt_sigma)\n",
    "        print(w0_sigma)\n",
    "        print(colored(\"------\",color))\n",
    "        print(elt_delta)\n",
    "        print(w0_delta)\n",
    "    return elt_matrix,w0_matrix,sum_matrix\n",
    "    \n",
    "    # plt.show()\n",
    "    # print(colored(\"-------------------------\",color))"
   ]
  },
  {
   "cell_type": "code",
   "execution_count": 121,
   "metadata": {},
   "outputs": [
    {
     "name": "stdout",
     "output_type": "stream",
     "text": [
      "\n",
      "Equivalence class\n",
      "Size: 7\n",
      "\n",
      "\n",
      "Equivalence class (ascending only)\n",
      "Size: 7\n",
      "\n",
      "\n",
      "Symmetric group\n",
      "Size: 24\n"
     ]
    }
   ],
   "source": [
    "N = 3\n",
    "SILENT = True\n",
    "A = equivalence_class.equiv_tree(N)\n",
    "A.make_equiv_class()\n",
    "equiv = A.nodes(\"equiv\")\n",
    "print(\"\\nEquivalence class\")\n",
    "print(\"Size:\",len(equiv))\n",
    "# for elt in equiv:\n",
    "#     print_matrices(elt,\"white\")\n",
    "# exit(0)\n",
    "\n",
    "if not SILENT:\n",
    "    for elt in equiv:\n",
    "        print(elt.word,end=\", \")\n",
    "\n",
    "A.make_ascending_equiv_class()\n",
    "ascend = A.nodes(\"ascend\")\n",
    "print(\"\\n\\nEquivalence class (ascending only)\")\n",
    "print(\"Size:\",len(ascend))\n",
    "if not SILENT:\n",
    "    for elt in ascend:\n",
    "        print(elt.word,end=\", \")\n",
    "\n",
    "A.make_symmetric_group()\n",
    "sym = A.nodes(\"sym\")\n",
    "print(\"\\n\\nSymmetric group\")\n",
    "print(\"Size:\",len(sym))\n",
    "D = defaultdict(list)\n",
    "for elt in sym:\n",
    "    D[elt.word_len].append(elt)\n",
    "\n",
    "\n",
    "\n",
    "big_elt_matrix = equivalence_class.matrix()\n",
    "big_w0_matrix = equivalence_class.matrix()\n",
    "big_sum_matrix = equivalence_class.matrix()\n",
    "# for i in range(max(D.keys())//2+1):\n",
    "for i in range(max(D.keys())+1):\n",
    "# for i in range(1):\n",
    "    if not SILENT:\n",
    "        print(\" Rank:\",i)\n",
    "        print(\"--------------------------------------------\")\n",
    "    elt_matrix = equivalence_class.matrix()\n",
    "    w0_matrix = equivalence_class.matrix()\n",
    "    sum_matrix = equivalence_class.matrix()\n",
    "    for elt in D[i]:\n",
    "        if elt in ascend:\n",
    "            elt_matrix,w0_matrix,sum_matrix = print_matrices(elt,\"green\",elt_matrix,w0_matrix,sum_matrix,SILENT)\n",
    "        elif elt in equiv:\n",
    "            elt_matrix,w0_matrix,sum_matrix = print_matrices(elt,\"blue\",elt_matrix,w0_matrix,sum_matrix,SILENT)\n",
    "        else:\n",
    "            elt_matrix,w0_matrix,sum_matrix = print_matrices(elt,\"white\",elt_matrix,w0_matrix,sum_matrix,SILENT)\n",
    "    big_elt_matrix = big_elt_matrix.concat_down(elt_matrix)\n",
    "    big_w0_matrix = big_w0_matrix.concat_down(w0_matrix)\n",
    "    big_sum_matrix = big_sum_matrix.concat_down(sum_matrix)\n",
    "    if not SILENT:\n",
    "        print(\"\\n===========================================\")"
   ]
  },
  {
   "cell_type": "code",
   "execution_count": 123,
   "metadata": {},
   "outputs": [
    {
     "name": "stdout",
     "output_type": "stream",
     "text": [
      "5.15 6.05\n"
     ]
    },
    {
     "data": {
      "image/png": "[encoded data removed]",
      "text/plain": "<Figure size 772.5x907.5 with 4 Axes>"
     },
     "metadata": {
      "needs_background": "light"
     },
     "output_type": "display_data"
    }
   ],
   "source": [
    "if big_elt_matrix.empty:\n",
    "    print(\"No big matrix made\")\n",
    "else:\n",
    "    width = 4.0+(len(big_elt_matrix.data[0])/20)\n",
    "    length = 2.0+3*len(big_elt_matrix.data)/20\n",
    "    print(width,length)\n",
    "    fig,ax = plt.subplots(3,figsize=(width,length),dpi=150)\n",
    "    vmin = -1\n",
    "    vmax = N + N%2\n",
    "    yticks = [(N+1)*y+N//2 for y in range(max(D.keys())+1)]\n",
    "    yticklabels = []\n",
    "    for y in range(max(D.keys())+1):\n",
    "        if y%3==0:\n",
    "            yticklabels.append(str(y))\n",
    "        else:\n",
    "            yticklabels.append(\"\")\n",
    "\n",
    "    im0 = ax[0].imshow(np.array(big_elt_matrix.data), vmin=vmin,vmax=vmax)\n",
    "    ax[0].title.set_text(\"$\\Delta_x$ for $x \\in A_{}$\".format(N))\n",
    "    ax[0].set_yticks(yticks)\n",
    "    ax[0].set_yticklabels(yticklabels)\n",
    "    ax[0].set_xticks([])\n",
    "    im1 = ax[1].imshow(np.array(big_w0_matrix.data), vmin=vmin,vmax=vmax)\n",
    "    ax[1].title.set_text(\"$\\Delta_{w_0 x}$ for \"+\"$x \\in A_{}$\".format(N))\n",
    "    ax[1].set_yticks(yticks)\n",
    "    ax[1].set_yticklabels(yticklabels)\n",
    "    ax[1].set_xticks([])\n",
    "    im2 = ax[2].imshow(np.array(big_sum_matrix.data), vmin=vmin,vmax=vmax)\n",
    "    ax[2].title.set_text(\"$\\Delta_x + \\Delta_x^{flip}$ \"+\"for $x \\in A_{}$\".format(N))\n",
    "    ax[2].set_yticks(yticks)\n",
    "    ax[2].set_yticklabels(yticklabels)\n",
    "    ax[2].set_xticks([])\n",
    "    fig.colorbar(im2,ax=ax.ravel().tolist())\n",
    "    fig.savefig(\"A{}.png\".format(N))\n",
    "    fig.show()"
   ]
  },
  {
   "cell_type": "code",
   "execution_count": null,
   "metadata": {},
   "outputs": [],
   "source": []
  }
 ],
 "metadata": {
  "kernelspec": {
   "display_name": "Python 3.8.5 64-bit ('usr')",
   "name": "python385jvsc74a57bd0767d51c1340bd893661ea55ea3124f6de3c7a262a8b4abca0554b478b1e2ff90"
  },
  "language_info": {
   "codemirror_mode": {
    "name": "ipython",
    "version": 3
   },
   "file_extension": ".py",
   "mimetype": "text/x-python",
   "name": "python",
   "nbconvert_exporter": "python",
   "pygments_lexer": "ipython3",
   "version": "3.8.5"
  },
  "orig_nbformat": 2
 },
 "nbformat": 4,
 "nbformat_minor": 2
}